{
 "cells": [
  {
   "cell_type": "code",
   "execution_count": 1,
   "metadata": {},
   "outputs": [],
   "source": [
    "from db_functions import create_connection, get_topic_dict, get_topic_names\n",
    "import pandas as pd\n",
    "from visualise_time_changes import get_scores_topic, resample_dataframe, visualise_change_over_time\n",
    "import altair as alt"
   ]
  },
  {
   "cell_type": "code",
   "execution_count": 2,
   "metadata": {},
   "outputs": [],
   "source": [
    "topic_names = get_topic_names()\n",
    "topic_dict = get_topic_dict()"
   ]
  },
  {
   "cell_type": "code",
   "execution_count": 9,
   "metadata": {},
   "outputs": [],
   "source": [
    "df = resample_dataframe( pd.DataFrame(get_scores_topic(\"Donald Trump\")), '1h')"
   ]
  },
  {
   "cell_type": "code",
   "execution_count": 12,
   "metadata": {},
   "outputs": [],
   "source": [
    "df = df.dropna()"
   ]
  },
  {
   "cell_type": "code",
   "execution_count": 13,
   "metadata": {},
   "outputs": [
    {
     "data": {
      "text/html": [
       "\n",
       "<style>\n",
       "  #altair-viz-efb9e5ecb3474356bd46f18aae2f1300.vega-embed {\n",
       "    width: 100%;\n",
       "    display: flex;\n",
       "  }\n",
       "\n",
       "  #altair-viz-efb9e5ecb3474356bd46f18aae2f1300.vega-embed details,\n",
       "  #altair-viz-efb9e5ecb3474356bd46f18aae2f1300.vega-embed details summary {\n",
       "    position: relative;\n",
       "  }\n",
       "</style>\n",
       "<div id=\"altair-viz-efb9e5ecb3474356bd46f18aae2f1300\"></div>\n",
       "<script type=\"text/javascript\">\n",
       "  var VEGA_DEBUG = (typeof VEGA_DEBUG == \"undefined\") ? {} : VEGA_DEBUG;\n",
       "  (function(spec, embedOpt){\n",
       "    let outputDiv = document.currentScript.previousElementSibling;\n",
       "    if (outputDiv.id !== \"altair-viz-efb9e5ecb3474356bd46f18aae2f1300\") {\n",
       "      outputDiv = document.getElementById(\"altair-viz-efb9e5ecb3474356bd46f18aae2f1300\");\n",
       "    }\n",
       "    const paths = {\n",
       "      \"vega\": \"https://cdn.jsdelivr.net/npm/vega@5?noext\",\n",
       "      \"vega-lib\": \"https://cdn.jsdelivr.net/npm/vega-lib?noext\",\n",
       "      \"vega-lite\": \"https://cdn.jsdelivr.net/npm/vega-lite@5.20.1?noext\",\n",
       "      \"vega-embed\": \"https://cdn.jsdelivr.net/npm/vega-embed@6?noext\",\n",
       "    };\n",
       "\n",
       "    function maybeLoadScript(lib, version) {\n",
       "      var key = `${lib.replace(\"-\", \"\")}_version`;\n",
       "      return (VEGA_DEBUG[key] == version) ?\n",
       "        Promise.resolve(paths[lib]) :\n",
       "        new Promise(function(resolve, reject) {\n",
       "          var s = document.createElement('script');\n",
       "          document.getElementsByTagName(\"head\")[0].appendChild(s);\n",
       "          s.async = true;\n",
       "          s.onload = () => {\n",
       "            VEGA_DEBUG[key] = version;\n",
       "            return resolve(paths[lib]);\n",
       "          };\n",
       "          s.onerror = () => reject(`Error loading script: ${paths[lib]}`);\n",
       "          s.src = paths[lib];\n",
       "        });\n",
       "    }\n",
       "\n",
       "    function showError(err) {\n",
       "      outputDiv.innerHTML = `<div class=\"error\" style=\"color:red;\">${err}</div>`;\n",
       "      throw err;\n",
       "    }\n",
       "\n",
       "    function displayChart(vegaEmbed) {\n",
       "      vegaEmbed(outputDiv, spec, embedOpt)\n",
       "        .catch(err => showError(`Javascript Error: ${err.message}<br>This usually means there's a typo in your chart specification. See the javascript console for the full traceback.`));\n",
       "    }\n",
       "\n",
       "    if(typeof define === \"function\" && define.amd) {\n",
       "      requirejs.config({paths});\n",
       "      require([\"vega-embed\"], displayChart, err => showError(`Error loading script: ${err.message}`));\n",
       "    } else {\n",
       "      maybeLoadScript(\"vega\", \"5\")\n",
       "        .then(() => maybeLoadScript(\"vega-lite\", \"5.20.1\"))\n",
       "        .then(() => maybeLoadScript(\"vega-embed\", \"6\"))\n",
       "        .catch(showError)\n",
       "        .then(() => displayChart(vegaEmbed));\n",
       "    }\n",
       "  })({\"config\": {\"view\": {\"continuousWidth\": 300, \"continuousHeight\": 300}}, \"layer\": [{\"mark\": {\"type\": \"circle\", \"color\": \"red\", \"size\": 100}, \"encoding\": {\"color\": {\"field\": \"source_name\", \"legend\": null, \"title\": \"Source Name\", \"type\": \"nominal\"}, \"x\": {\"field\": \"date_published\", \"type\": \"temporal\"}, \"y\": {\"field\": \"title_polarity_score\", \"type\": \"quantitative\"}}, \"transform\": [{\"window\": [{\"op\": \"rank\", \"field\": \"date_published\", \"as\": \"rank\"}], \"groupby\": [\"source_name\"], \"sort\": [{\"field\": \"date_published\", \"order\": \"descending\"}]}, {\"filter\": \"(datum.rank === 1)\"}]}, {\"mark\": {\"type\": \"text\", \"align\": \"left\", \"dx\": 10}, \"encoding\": {\"color\": {\"field\": \"source_name\", \"legend\": null, \"title\": \"Source Name\", \"type\": \"nominal\"}, \"text\": {\"field\": \"source_name\", \"type\": \"nominal\"}, \"x\": {\"field\": \"date_published\", \"type\": \"temporal\"}, \"y\": {\"field\": \"title_polarity_score\", \"type\": \"quantitative\"}}, \"transform\": [{\"window\": [{\"op\": \"rank\", \"field\": \"date_published\", \"as\": \"rank\"}], \"groupby\": [\"source_name\"], \"sort\": [{\"field\": \"date_published\", \"order\": \"descending\"}]}, {\"filter\": \"(datum.rank === 1)\"}]}, {\"mark\": {\"type\": \"line\"}, \"encoding\": {\"color\": {\"field\": \"source_name\", \"legend\": null, \"title\": \"Source Name\", \"type\": \"nominal\"}, \"x\": {\"axis\": {\"offset\": -150, \"title\": \"Date Published\", \"titleAnchor\": \"end\"}, \"field\": \"date_published\", \"type\": \"temporal\"}, \"y\": {\"field\": \"title_polarity_score\", \"scale\": {\"domain\": [-1, 1]}, \"title\": \"Title Polarity Score\", \"type\": \"quantitative\"}}, \"title\": \"Hourly Average of Sentiment Scores for a Donald Trump\"}], \"data\": {\"name\": \"data-22f134fba5eb4caedc34915d2ec052de\"}, \"width\": 500, \"$schema\": \"https://vega.github.io/schema/vega-lite/v5.20.1.json\", \"datasets\": {\"data-22f134fba5eb4caedc34915d2ec052de\": [{\"source_name\": \"Democracy Now!\", \"topic_name\": \"Donald Trump\", \"date_published\": \"2024-10-08T00:00:00\", \"content_polarity_score\": -0.9584, \"title_polarity_score\": -0.7096}, {\"source_name\": \"Democracy Now!\", \"topic_name\": \"Donald Trump\", \"date_published\": \"2024-10-10T00:00:00\", \"content_polarity_score\": -0.06770000000000004, \"title_polarity_score\": -0.3753}, {\"source_name\": \"Fox News\", \"topic_name\": \"Donald Trump\", \"date_published\": \"2024-10-05T00:00:00\", \"content_polarity_score\": 0.8822, \"title_polarity_score\": 0.6486}, {\"source_name\": \"Fox News\", \"topic_name\": \"Donald Trump\", \"date_published\": \"2024-10-06T00:00:00\", \"content_polarity_score\": 0.9938, \"title_polarity_score\": 0.5859}, {\"source_name\": \"Fox News\", \"topic_name\": \"Donald Trump\", \"date_published\": \"2024-10-07T00:00:00\", \"content_polarity_score\": 0.4482, \"title_polarity_score\": 0.6679}, {\"source_name\": \"Fox News\", \"topic_name\": \"Donald Trump\", \"date_published\": \"2024-10-08T00:00:00\", \"content_polarity_score\": -0.3847333333333333, \"title_polarity_score\": 0.2718333333333333}, {\"source_name\": \"Fox News\", \"topic_name\": \"Donald Trump\", \"date_published\": \"2024-10-09T00:00:00\", \"content_polarity_score\": 0.32243333333333335, \"title_polarity_score\": -0.10655555555555556}, {\"source_name\": \"Fox News\", \"topic_name\": \"Donald Trump\", \"date_published\": \"2024-10-10T00:00:00\", \"content_polarity_score\": -0.3041666666666667, \"title_polarity_score\": 0.0}]}}, {\"mode\": \"vega-lite\"});\n",
       "</script>"
      ],
      "text/plain": [
       "alt.LayerChart(...)"
      ]
     },
     "execution_count": 13,
     "metadata": {},
     "output_type": "execute_result"
    }
   ],
   "source": [
    "visualise_change_over_time(df,'Donald Trump')"
   ]
  },
  {
   "cell_type": "code",
   "execution_count": 6,
   "metadata": {},
   "outputs": [
    {
     "data": {
      "text/plain": [
       "Timestamp('2024-10-10 00:00:00')"
      ]
     },
     "execution_count": 6,
     "metadata": {},
     "output_type": "execute_result"
    }
   ],
   "source": [
    "last_time = max(df['date_published'])\n",
    "last_time"
   ]
  },
  {
   "cell_type": "code",
   "execution_count": 7,
   "metadata": {},
   "outputs": [
    {
     "data": {
      "text/html": [
       "\n",
       "<style>\n",
       "  #altair-viz-61bf8a674f4140ef916fff0a64e0fef5.vega-embed {\n",
       "    width: 100%;\n",
       "    display: flex;\n",
       "  }\n",
       "\n",
       "  #altair-viz-61bf8a674f4140ef916fff0a64e0fef5.vega-embed details,\n",
       "  #altair-viz-61bf8a674f4140ef916fff0a64e0fef5.vega-embed details summary {\n",
       "    position: relative;\n",
       "  }\n",
       "</style>\n",
       "<div id=\"altair-viz-61bf8a674f4140ef916fff0a64e0fef5\"></div>\n",
       "<script type=\"text/javascript\">\n",
       "  var VEGA_DEBUG = (typeof VEGA_DEBUG == \"undefined\") ? {} : VEGA_DEBUG;\n",
       "  (function(spec, embedOpt){\n",
       "    let outputDiv = document.currentScript.previousElementSibling;\n",
       "    if (outputDiv.id !== \"altair-viz-61bf8a674f4140ef916fff0a64e0fef5\") {\n",
       "      outputDiv = document.getElementById(\"altair-viz-61bf8a674f4140ef916fff0a64e0fef5\");\n",
       "    }\n",
       "    const paths = {\n",
       "      \"vega\": \"https://cdn.jsdelivr.net/npm/vega@5?noext\",\n",
       "      \"vega-lib\": \"https://cdn.jsdelivr.net/npm/vega-lib?noext\",\n",
       "      \"vega-lite\": \"https://cdn.jsdelivr.net/npm/vega-lite@5.20.1?noext\",\n",
       "      \"vega-embed\": \"https://cdn.jsdelivr.net/npm/vega-embed@6?noext\",\n",
       "    };\n",
       "\n",
       "    function maybeLoadScript(lib, version) {\n",
       "      var key = `${lib.replace(\"-\", \"\")}_version`;\n",
       "      return (VEGA_DEBUG[key] == version) ?\n",
       "        Promise.resolve(paths[lib]) :\n",
       "        new Promise(function(resolve, reject) {\n",
       "          var s = document.createElement('script');\n",
       "          document.getElementsByTagName(\"head\")[0].appendChild(s);\n",
       "          s.async = true;\n",
       "          s.onload = () => {\n",
       "            VEGA_DEBUG[key] = version;\n",
       "            return resolve(paths[lib]);\n",
       "          };\n",
       "          s.onerror = () => reject(`Error loading script: ${paths[lib]}`);\n",
       "          s.src = paths[lib];\n",
       "        });\n",
       "    }\n",
       "\n",
       "    function showError(err) {\n",
       "      outputDiv.innerHTML = `<div class=\"error\" style=\"color:red;\">${err}</div>`;\n",
       "      throw err;\n",
       "    }\n",
       "\n",
       "    function displayChart(vegaEmbed) {\n",
       "      vegaEmbed(outputDiv, spec, embedOpt)\n",
       "        .catch(err => showError(`Javascript Error: ${err.message}<br>This usually means there's a typo in your chart specification. See the javascript console for the full traceback.`));\n",
       "    }\n",
       "\n",
       "    if(typeof define === \"function\" && define.amd) {\n",
       "      requirejs.config({paths});\n",
       "      require([\"vega-embed\"], displayChart, err => showError(`Error loading script: ${err.message}`));\n",
       "    } else {\n",
       "      maybeLoadScript(\"vega\", \"5\")\n",
       "        .then(() => maybeLoadScript(\"vega-lite\", \"5.20.1\"))\n",
       "        .then(() => maybeLoadScript(\"vega-embed\", \"6\"))\n",
       "        .catch(showError)\n",
       "        .then(() => displayChart(vegaEmbed));\n",
       "    }\n",
       "  })({\"config\": {\"view\": {\"continuousWidth\": 300, \"continuousHeight\": 300}}, \"layer\": [{\"mark\": {\"type\": \"line\"}, \"encoding\": {\"color\": {\"field\": \"source_name\", \"legend\": null, \"title\": \"Source Name\", \"type\": \"nominal\"}, \"x\": {\"axis\": {\"offset\": -150, \"title\": \"Date Published\", \"titleAnchor\": \"end\"}, \"field\": \"date_published\", \"type\": \"temporal\"}, \"y\": {\"field\": \"title_polarity_score\", \"scale\": {\"domain\": [-1, 1]}, \"title\": \"Title Polarity Score\", \"type\": \"quantitative\"}}, \"title\": \"Hourly Avg of Sentiment Scores for a Topic\"}, {\"mark\": {\"type\": \"circle\", \"color\": \"red\", \"size\": 100}, \"encoding\": {\"color\": {\"field\": \"source_name\", \"legend\": null, \"title\": \"Source Name\", \"type\": \"nominal\"}, \"x\": {\"field\": \"date_published\", \"type\": \"temporal\"}, \"y\": {\"field\": \"title_polarity_score\", \"type\": \"quantitative\"}}, \"transform\": [{\"window\": [{\"op\": \"rank\", \"field\": \"date_published\", \"as\": \"rank\"}], \"groupby\": [\"source_name\"], \"sort\": [{\"field\": \"date_published\", \"order\": \"descending\"}]}, {\"filter\": \"(datum.rank === 1)\"}]}, {\"mark\": {\"type\": \"text\", \"align\": \"left\", \"dx\": 10}, \"encoding\": {\"color\": {\"field\": \"source_name\", \"legend\": null, \"title\": \"Source Name\", \"type\": \"nominal\"}, \"text\": {\"field\": \"source_name\", \"type\": \"nominal\"}, \"x\": {\"field\": \"date_published\", \"type\": \"temporal\"}, \"y\": {\"field\": \"title_polarity_score\", \"type\": \"quantitative\"}}, \"transform\": [{\"window\": [{\"op\": \"rank\", \"field\": \"date_published\", \"as\": \"rank\"}], \"groupby\": [\"source_name\"], \"sort\": [{\"field\": \"date_published\", \"order\": \"descending\"}]}, {\"filter\": \"(datum.rank === 1)\"}]}], \"data\": {\"name\": \"data-22f134fba5eb4caedc34915d2ec052de\"}, \"width\": 500, \"$schema\": \"https://vega.github.io/schema/vega-lite/v5.20.1.json\", \"datasets\": {\"data-22f134fba5eb4caedc34915d2ec052de\": [{\"source_name\": \"Democracy Now!\", \"topic_name\": \"Donald Trump\", \"date_published\": \"2024-10-08T00:00:00\", \"content_polarity_score\": -0.9584, \"title_polarity_score\": -0.7096}, {\"source_name\": \"Democracy Now!\", \"topic_name\": \"Donald Trump\", \"date_published\": \"2024-10-10T00:00:00\", \"content_polarity_score\": -0.06770000000000004, \"title_polarity_score\": -0.3753}, {\"source_name\": \"Fox News\", \"topic_name\": \"Donald Trump\", \"date_published\": \"2024-10-05T00:00:00\", \"content_polarity_score\": 0.8822, \"title_polarity_score\": 0.6486}, {\"source_name\": \"Fox News\", \"topic_name\": \"Donald Trump\", \"date_published\": \"2024-10-06T00:00:00\", \"content_polarity_score\": 0.9938, \"title_polarity_score\": 0.5859}, {\"source_name\": \"Fox News\", \"topic_name\": \"Donald Trump\", \"date_published\": \"2024-10-07T00:00:00\", \"content_polarity_score\": 0.4482, \"title_polarity_score\": 0.6679}, {\"source_name\": \"Fox News\", \"topic_name\": \"Donald Trump\", \"date_published\": \"2024-10-08T00:00:00\", \"content_polarity_score\": -0.3847333333333333, \"title_polarity_score\": 0.2718333333333333}, {\"source_name\": \"Fox News\", \"topic_name\": \"Donald Trump\", \"date_published\": \"2024-10-09T00:00:00\", \"content_polarity_score\": 0.32243333333333335, \"title_polarity_score\": -0.10655555555555556}, {\"source_name\": \"Fox News\", \"topic_name\": \"Donald Trump\", \"date_published\": \"2024-10-10T00:00:00\", \"content_polarity_score\": -0.3041666666666667, \"title_polarity_score\": 0.0}]}}, {\"mode\": \"vega-lite\"});\n",
       "</script>"
      ],
      "text/plain": [
       "alt.LayerChart(...)"
      ]
     },
     "execution_count": 7,
     "metadata": {},
     "output_type": "execute_result"
    }
   ],
   "source": [
    "base = alt.Chart(df).encode(\n",
    "    alt.Color(\"source_name\",title='Source Name').legend(None)\n",
    ").properties(\n",
    "    width=500\n",
    ")\n",
    "line = base.mark_line().encode(\n",
    "    x = alt.X('date_published:T', axis = alt.Axis(offset=-150,title = 'Date Published', titleAnchor=\"end\")),\n",
    "    y = alt.Y('title_polarity_score:Q',scale=alt.Scale(domain=[-1, 1]), title = 'Title Polarity Score')\n",
    ").properties(\n",
    "    width=500,\n",
    "    title = 'Hourly Avg of Sentiment Scores for a Topic'\n",
    ")\n",
    "\n",
    "last_point = base.mark_circle(size=100, color='red').encode(\n",
    "    x='date_published:T',\n",
    "    y='title_polarity_score:Q'\n",
    ").transform_window(\n",
    "    rank='rank(date_published)',\n",
    "    sort=[alt.SortField('date_published', order='descending')],\n",
    "    groupby=['source_name']\n",
    ").transform_filter(\n",
    "    alt.datum.rank == 1\n",
    ")\n",
    "\n",
    "source_names = last_point.mark_text(align=\"left\", dx=  10).encode(text=\"source_name\")\n",
    "\n",
    "line + last_point + source_names"
   ]
  },
  {
   "cell_type": "code",
   "execution_count": null,
   "metadata": {},
   "outputs": [],
   "source": []
  }
 ],
 "metadata": {
  "kernelspec": {
   "display_name": "venv",
   "language": "python",
   "name": "python3"
  },
  "language_info": {
   "codemirror_mode": {
    "name": "ipython",
    "version": 3
   },
   "file_extension": ".py",
   "mimetype": "text/x-python",
   "name": "python",
   "nbconvert_exporter": "python",
   "pygments_lexer": "ipython3",
   "version": "3.12.6"
  }
 },
 "nbformat": 4,
 "nbformat_minor": 2
}
